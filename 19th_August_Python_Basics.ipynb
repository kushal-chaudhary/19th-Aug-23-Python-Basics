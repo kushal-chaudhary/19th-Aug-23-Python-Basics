{
 "cells": [
  {
   "cell_type": "code",
   "execution_count": 1,
   "id": "ab654232-16bf-457c-b48d-df7d0e05b2a7",
   "metadata": {},
   "outputs": [
    {
     "name": "stdout",
     "output_type": "stream",
     "text": [
      "Before swapping:\n",
      "x = 10\n",
      "y = 12\n",
      "\n",
      "After swapping:\n",
      "x = 12\n",
      "y = 10\n"
     ]
    }
   ],
   "source": [
    "'''Declare two variables, `x` and `y`, and assign them integer values. Swap the values of these variables \n",
    "without using any temporary variable'''\n",
    "\n",
    "x = 10\n",
    "y = 12\n",
    "\n",
    "print(\"Before swapping:\")\n",
    "print(\"x =\", x)\n",
    "print(\"y =\", y)\n",
    "\n",
    "x = x + y\n",
    "y = x - y\n",
    "x = x - y\n",
    "\n",
    "print(\"\\nAfter swapping:\")\n",
    "print(\"x =\", x)\n",
    "print(\"y =\", y)"
   ]
  },
  {
   "cell_type": "code",
   "execution_count": 3,
   "id": "ea4c2f32-038a-47f1-b059-32b3cbbf66e0",
   "metadata": {},
   "outputs": [
    {
     "name": "stdin",
     "output_type": "stream",
     "text": [
      "Enter the length of the rectangle:  6\n",
      "Enter the width of the rectangle:  24\n"
     ]
    },
    {
     "name": "stdout",
     "output_type": "stream",
     "text": [
      "The area of the rectangle with length 6.0 and width 24.0 is: 144.0\n"
     ]
    }
   ],
   "source": [
    "'''Create a program in python that calculates the area of a rectangle. Take the length and width as inputs\n",
    "from the user and store them in variables. Calculate and display the area.'''\n",
    "\n",
    "# Taking input for length and width from the user\n",
    "length = float(input(\"Enter the length of the rectangle: \"))\n",
    "width = float(input(\"Enter the width of the rectangle: \"))\n",
    "\n",
    "# Calculating the area of the rectangle\n",
    "area = length * width\n",
    "\n",
    "# Displaying the calculated area\n",
    "print(f\"The area of the rectangle with length {length} and width {width} is: {area}\")"
   ]
  },
  {
   "cell_type": "code",
   "execution_count": 4,
   "id": "fe6c7149-e9b1-41ab-b03b-ff412784e896",
   "metadata": {},
   "outputs": [
    {
     "name": "stdin",
     "output_type": "stream",
     "text": [
      "Enter the temperature in Celsius:  60\n"
     ]
    },
    {
     "name": "stdout",
     "output_type": "stream",
     "text": [
      "The temperature 60.0 Celsius is equal to 140.0 Fahrenheit.\n"
     ]
    }
   ],
   "source": [
    "'''Write a Python program that converts temperatures from Celsius to Fahrenheit. Take the temperature in \n",
    "Celsius as input, store it in a variable, convert it to Fahrenheit, and display the result.'''\n",
    "\n",
    "# Taking input for temperature in Celsius from the user\n",
    "celsius = float(input(\"Enter the temperature in Celsius: \"))\n",
    "\n",
    "# Convert Celsius to Fahrenheit using the formula: F = (C * 9/5) + 32\n",
    "fahrenheit = (celsius * 9/5) + 32\n",
    "\n",
    "# Displaying the converted temperature in Fahrenheit\n",
    "print(f\"The temperature {celsius} Celsius is equal to {fahrenheit} Fahrenheit.\")"
   ]
  },
  {
   "cell_type": "code",
   "execution_count": 5,
   "id": "186b896f-0a5d-4358-97b8-ec9f0d4bd241",
   "metadata": {},
   "outputs": [
    {
     "name": "stdin",
     "output_type": "stream",
     "text": [
      "Enter a string:  my name is gunnu\n"
     ]
    },
    {
     "name": "stdout",
     "output_type": "stream",
     "text": [
      "The length of the string entered is: 16\n"
     ]
    }
   ],
   "source": [
    "'''Write a Python program that takes a string as input and prints the length of the string.'''\n",
    "\n",
    "# Taking input for a string from the user\n",
    "input_string = input(\"Enter a string: \")\n",
    "\n",
    "# Calculating the length of the input string using the len() function\n",
    "string_length = len(input_string)\n",
    "\n",
    "# Displaying the length of the input string\n",
    "print(f\"The length of the string entered is: {string_length}\")"
   ]
  },
  {
   "cell_type": "code",
   "execution_count": 6,
   "id": "8fff7d05-aae3-44f4-9ef9-bbd0dfcf58e2",
   "metadata": {},
   "outputs": [
    {
     "name": "stdin",
     "output_type": "stream",
     "text": [
      "Enter a sentence:  Write a Python program that takes a string as input and prints the length of the string.\n"
     ]
    },
    {
     "name": "stdout",
     "output_type": "stream",
     "text": [
      "The number of vowels in the sentence is: 21\n"
     ]
    }
   ],
   "source": [
    "'''Create a program that takes a sentence from the user and counts the number of vowels \n",
    "(a, e, i, o, u) in the string.'''\n",
    "\n",
    "# Taking input for a sentence from the user\n",
    "sentence = input(\"Enter a sentence: \")\n",
    "\n",
    "# Converting the sentence to lowercase to make the counting case-insensitive\n",
    "sentence_lower = sentence.lower()\n",
    "\n",
    "# Counting the number of vowels in the sentence using the count() method\n",
    "vowel_count = sentence_lower.count('a') + sentence_lower.count('e') + sentence_lower.count('i') + sentence_lower.count('o') + sentence_lower.count('u')\n",
    "\n",
    "# Displaying the count of vowels in the sentence\n",
    "print(f\"The number of vowels in the sentence is: {vowel_count}\")"
   ]
  },
  {
   "cell_type": "code",
   "execution_count": 7,
   "id": "7ccd2680-c786-4797-9a24-aac2dfc0b754",
   "metadata": {},
   "outputs": [
    {
     "name": "stdin",
     "output_type": "stream",
     "text": [
      "Enter a string:  abcdefghij\n"
     ]
    },
    {
     "name": "stdout",
     "output_type": "stream",
     "text": [
      "Reversed string: jihgfedcba\n"
     ]
    }
   ],
   "source": [
    "'''Given a string, reverse the order of characters using string slicing and print\n",
    "the reversed string.'''\n",
    "\n",
    "# Taking input for a string from the user\n",
    "input_string = input(\"Enter a string: \")\n",
    "\n",
    "# Reversing the string using string slicing and printing the reversed string\n",
    "reversed_string = input_string[::-1]\n",
    "print(\"Reversed string:\", reversed_string)"
   ]
  },
  {
   "cell_type": "code",
   "execution_count": 10,
   "id": "c63de4f0-5c95-473b-a407-ddb5efb379d7",
   "metadata": {},
   "outputs": [
    {
     "name": "stdin",
     "output_type": "stream",
     "text": [
      "Enter a string:  dalda\n"
     ]
    },
    {
     "name": "stdout",
     "output_type": "stream",
     "text": [
      "The string 'dalda' is not a palindrome.\n"
     ]
    }
   ],
   "source": [
    "'''Write a program that takes a string as input and checks if it is a palindrome\n",
    "(reads the same forwards and backwards).'''\n",
    "\n",
    "# Taking input for a string from the user\n",
    "user_input = input(\"Enter a string: \")\n",
    "\n",
    "# Remove spaces and convert the string to lowercase for case-insensitive comparison\n",
    "processed_string = user_input.replace(\" \", \"\").lower()\n",
    "\n",
    "# Reverse the string using slicing\n",
    "reversed_string = processed_string[::-1]\n",
    "\n",
    "# Checking if the input string is a palindrome\n",
    "if processed_string == reversed_string:\n",
    "    print(f\"The string '{user_input}' is a palindrome.\")\n",
    "else:\n",
    "    print(f\"The string '{user_input}' is not a palindrome.\")"
   ]
  },
  {
   "cell_type": "code",
   "execution_count": 11,
   "id": "dccfc773-cd1b-4889-9a4e-84ada42c7a3a",
   "metadata": {},
   "outputs": [
    {
     "name": "stdin",
     "output_type": "stream",
     "text": [
      "Enter a string:  my bane is'\n"
     ]
    },
    {
     "name": "stdout",
     "output_type": "stream",
     "text": [
      "Modified string without spaces: mybaneis'\n"
     ]
    }
   ],
   "source": [
    "'''Create a program that takes a string as input and removes all the spaces from\n",
    "it. Print the modified string without spaces.'''\n",
    "\n",
    "# Taking input for a string from the user\n",
    "user_input = input(\"Enter a string: \")\n",
    "\n",
    "# Removing spaces from the input string using the replace() method\n",
    "modified_string = user_input.replace(\" \", \"\")\n",
    "\n",
    "# Printing the modified string without spaces\n",
    "print(\"Modified string without spaces:\", modified_string)"
   ]
  },
  {
   "cell_type": "code",
   "execution_count": null,
   "id": "b827b94e-c0d4-49f1-8ba9-7f7de9b9bf71",
   "metadata": {},
   "outputs": [],
   "source": []
  }
 ],
 "metadata": {
  "kernelspec": {
   "display_name": "Python 3 (ipykernel)",
   "language": "python",
   "name": "python3"
  },
  "language_info": {
   "codemirror_mode": {
    "name": "ipython",
    "version": 3
   },
   "file_extension": ".py",
   "mimetype": "text/x-python",
   "name": "python",
   "nbconvert_exporter": "python",
   "pygments_lexer": "ipython3",
   "version": "3.10.8"
  }
 },
 "nbformat": 4,
 "nbformat_minor": 5
}
